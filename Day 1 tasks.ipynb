{
 "cells": [
  {
   "cell_type": "code",
   "execution_count": 4,
   "id": "bebd26a6",
   "metadata": {},
   "outputs": [
    {
     "name": "stdout",
     "output_type": "stream",
     "text": [
      "Random String\n"
     ]
    }
   ],
   "source": [
    "print(\"Random String\")"
   ]
  },
  {
   "cell_type": "code",
   "execution_count": 9,
   "id": "05f053b4",
   "metadata": {},
   "outputs": [
    {
     "name": "stdout",
     "output_type": "stream",
     "text": [
      "String\n",
      "100\n",
      "3.14\n",
      "False\n"
     ]
    }
   ],
   "source": [
    "a = \"String\"\n",
    "b = 100\n",
    "c = 3.14\n",
    "d = False\n",
    "\n",
    "print(a)\n",
    "print(b)\n",
    "print(c)\n",
    "print(d)"
   ]
  },
  {
   "cell_type": "code",
   "execution_count": 8,
   "id": "5cd75b76",
   "metadata": {},
   "outputs": [
    {
     "name": "stdout",
     "output_type": "stream",
     "text": [
      "<class 'str'>\n",
      "<class 'int'>\n",
      "<class 'float'>\n",
      "<class 'bool'>\n"
     ]
    }
   ],
   "source": [
    "print(type(a))\n",
    "print(type(b))\n",
    "print(type(c))\n",
    "print(type(d))"
   ]
  },
  {
   "cell_type": "code",
   "execution_count": 11,
   "id": "502d4a12",
   "metadata": {},
   "outputs": [
    {
     "name": "stdout",
     "output_type": "stream",
     "text": [
      "25.0\n",
      "314.0\n",
      "25\n"
     ]
    }
   ],
   "source": [
    "e = b / 4\n",
    "g = b // 4\n",
    "f = b * c\n",
    "\n",
    "print(e)\n",
    "print(f)\n",
    "print(g)"
   ]
  },
  {
   "cell_type": "code",
   "execution_count": 14,
   "id": "0aa6897c",
   "metadata": {},
   "outputs": [
    {
     "name": "stdout",
     "output_type": "stream",
     "text": [
      "Enter Number : 5\n",
      "enter Number : 3\n",
      "5\n",
      "3\n",
      "15\n",
      "<class 'int'>\n",
      "<class 'int'>\n",
      "<class 'int'>\n"
     ]
    }
   ],
   "source": [
    "x = int(input(\"Enter Number : \"))\n",
    "y = int(input(\"enter Number : \"))\n",
    "z = x * y\n",
    "\n",
    "print(x)\n",
    "print(y)\n",
    "print(z)\n",
    "\n",
    "print(type(x))\n",
    "print(type(y))\n",
    "print(type(z))"
   ]
  },
  {
   "cell_type": "code",
   "execution_count": 15,
   "id": "51efe91f",
   "metadata": {},
   "outputs": [
    {
     "name": "stdout",
     "output_type": "stream",
     "text": [
      "Enter Number : 5\n",
      "Enter Number : 3\n",
      "5.0\n",
      "3.0\n",
      "15.0\n",
      "<class 'float'>\n",
      "<class 'float'>\n",
      "<class 'float'>\n"
     ]
    }
   ],
   "source": [
    "x = float(input(\"Enter Number : \"))\n",
    "y = float(input(\"Enter Number : \"))\n",
    "z = x * y\n",
    "\n",
    "print(x)\n",
    "print(y)\n",
    "print(z)\n",
    "\n",
    "print(type(x))\n",
    "print(type(y))\n",
    "print(type(z))"
   ]
  },
  {
   "cell_type": "code",
   "execution_count": 19,
   "id": "f45954c9",
   "metadata": {},
   "outputs": [
    {
     "name": "stdout",
     "output_type": "stream",
     "text": [
      "ITM \n",
      "(sls)\n",
      "<class 'str'>\n",
      "<class 'str'>\n",
      "ITM (sls)\n",
      "ITM ITM \n"
     ]
    }
   ],
   "source": [
    "str1 = \"ITM \"\n",
    "str2 = \"(sls)\"\n",
    "\n",
    "print(str1)\n",
    "print(str2)\n",
    "\n",
    "print(type(str1))\n",
    "print(type(str2))\n",
    "\n",
    "str3 = str1 + str2\n",
    "print(str3)\n",
    "\n",
    "str4 = str1 * 2\n",
    "print(str4)"
   ]
  },
  {
   "cell_type": "code",
   "execution_count": 20,
   "id": "f481c9b8",
   "metadata": {},
   "outputs": [
    {
     "name": "stdout",
     "output_type": "stream",
     "text": [
      "raj\n"
     ]
    }
   ],
   "source": [
    "name = \"Viraj\"\n",
    "print(name[2:])"
   ]
  },
  {
   "cell_type": "code",
   "execution_count": 21,
   "id": "e15c0d2b",
   "metadata": {},
   "outputs": [
    {
     "name": "stdout",
     "output_type": "stream",
     "text": [
      "Viraj\n"
     ]
    }
   ],
   "source": [
    "print(name[:6])"
   ]
  },
  {
   "cell_type": "code",
   "execution_count": 22,
   "id": "4afddabb",
   "metadata": {},
   "outputs": [
    {
     "name": "stdout",
     "output_type": "stream",
     "text": [
      "ir\n"
     ]
    }
   ],
   "source": [
    "print(name[1:3])"
   ]
  },
  {
   "cell_type": "code",
   "execution_count": 23,
   "id": "e7c5ed71",
   "metadata": {},
   "outputs": [
    {
     "name": "stdout",
     "output_type": "stream",
     "text": [
      "Viraj\n"
     ]
    }
   ],
   "source": [
    "print(name[-6:])"
   ]
  },
  {
   "cell_type": "code",
   "execution_count": 36,
   "id": "e70d5b5b",
   "metadata": {},
   "outputs": [
    {
     "name": "stdout",
     "output_type": "stream",
     "text": [
      "\n"
     ]
    }
   ],
   "source": [
    "print(name[:-6])"
   ]
  },
  {
   "cell_type": "markdown",
   "id": "3e97d6c6",
   "metadata": {},
   "source": [
    "# Tuple"
   ]
  },
  {
   "cell_type": "code",
   "execution_count": 30,
   "id": "2c6399eb",
   "metadata": {},
   "outputs": [
    {
     "name": "stdout",
     "output_type": "stream",
     "text": [
      "Hello World! from CS50"
     ]
    }
   ],
   "source": [
    "tup = (\"Hello \", \"World! \", \"from \", \"CS\", 50)\n",
    "for i in tup:\n",
    "    print(i, end = \"\")"
   ]
  },
  {
   "cell_type": "code",
   "execution_count": 31,
   "id": "3fd2f028",
   "metadata": {},
   "outputs": [
    {
     "data": {
      "text/plain": [
       "'World! '"
      ]
     },
     "execution_count": 31,
     "metadata": {},
     "output_type": "execute_result"
    }
   ],
   "source": [
    "tup[1]"
   ]
  },
  {
   "cell_type": "code",
   "execution_count": 32,
   "id": "a84768d3",
   "metadata": {},
   "outputs": [
    {
     "data": {
      "text/plain": [
       "('Hello ', 'World! ', 'from ')"
      ]
     },
     "execution_count": 32,
     "metadata": {},
     "output_type": "execute_result"
    }
   ],
   "source": [
    "tup[0:3]"
   ]
  },
  {
   "cell_type": "code",
   "execution_count": 33,
   "id": "bd31b5ba",
   "metadata": {},
   "outputs": [
    {
     "data": {
      "text/plain": [
       "()"
      ]
     },
     "execution_count": 33,
     "metadata": {},
     "output_type": "execute_result"
    }
   ],
   "source": [
    "tup[-1:-4]"
   ]
  },
  {
   "cell_type": "code",
   "execution_count": 34,
   "id": "b45382ec",
   "metadata": {},
   "outputs": [
    {
     "data": {
      "text/plain": [
       "('World! ', 'from ', 'CS')"
      ]
     },
     "execution_count": 34,
     "metadata": {},
     "output_type": "execute_result"
    }
   ],
   "source": [
    "tup[-4:-1]"
   ]
  },
  {
   "cell_type": "code",
   "execution_count": 35,
   "id": "ec2eed3e",
   "metadata": {},
   "outputs": [
    {
     "data": {
      "text/plain": [
       "('Hello ', 'World! ', 'from ', 'CS', 50)"
      ]
     },
     "execution_count": 35,
     "metadata": {},
     "output_type": "execute_result"
    }
   ],
   "source": [
    "tup[:]"
   ]
  },
  {
   "cell_type": "code",
   "execution_count": 40,
   "id": "0ba8655e",
   "metadata": {},
   "outputs": [
    {
     "name": "stdout",
     "output_type": "stream",
     "text": [
      "('Hello ', 'World! ', 'from ', 'CS', 50, '. ', 'This ', 'is ', 'David J. Malan.')\n"
     ]
    }
   ],
   "source": [
    "tup1 = ('. ', \"This \", \"is \", \"David J. Malan.\")\n",
    "tup2 = tup + tup1\n",
    "print(tup2)"
   ]
  },
  {
   "cell_type": "code",
   "execution_count": 45,
   "id": "c63397aa",
   "metadata": {},
   "outputs": [
    {
     "name": "stdout",
     "output_type": "stream",
     "text": [
      "Malan.\n"
     ]
    }
   ],
   "source": [
    "print(tup2[-1][-6:])"
   ]
  },
  {
   "cell_type": "code",
   "execution_count": 41,
   "id": "b09d56f7",
   "metadata": {},
   "outputs": [
    {
     "ename": "TypeError",
     "evalue": "'tuple' object doesn't support item deletion",
     "output_type": "error",
     "traceback": [
      "\u001b[1;31m---------------------------------------------------------------------------\u001b[0m",
      "\u001b[1;31mTypeError\u001b[0m                                 Traceback (most recent call last)",
      "\u001b[1;32m~\\AppData\\Local\\Temp/ipykernel_9956/4134036693.py\u001b[0m in \u001b[0;36m<module>\u001b[1;34m\u001b[0m\n\u001b[1;32m----> 1\u001b[1;33m \u001b[1;32mdel\u001b[0m \u001b[0mtup\u001b[0m\u001b[1;33m[\u001b[0m\u001b[1;33m-\u001b[0m\u001b[1;36m1\u001b[0m\u001b[1;33m]\u001b[0m\u001b[1;33m\u001b[0m\u001b[1;33m\u001b[0m\u001b[0m\n\u001b[0m\u001b[0;32m      2\u001b[0m \u001b[0mprint\u001b[0m\u001b[1;33m(\u001b[0m\u001b[0mtup\u001b[0m\u001b[1;33m)\u001b[0m\u001b[1;33m\u001b[0m\u001b[1;33m\u001b[0m\u001b[0m\n",
      "\u001b[1;31mTypeError\u001b[0m: 'tuple' object doesn't support item deletion"
     ]
    }
   ],
   "source": [
    "del tup[-1]\n",
    "print(tup)"
   ]
  },
  {
   "cell_type": "code",
   "execution_count": 42,
   "id": "bab6b1ee",
   "metadata": {},
   "outputs": [],
   "source": [
    "del tup"
   ]
  },
  {
   "cell_type": "code",
   "execution_count": 43,
   "id": "f6723c59",
   "metadata": {},
   "outputs": [
    {
     "ename": "NameError",
     "evalue": "name 'tup' is not defined",
     "output_type": "error",
     "traceback": [
      "\u001b[1;31m---------------------------------------------------------------------------\u001b[0m",
      "\u001b[1;31mNameError\u001b[0m                                 Traceback (most recent call last)",
      "\u001b[1;32m~\\AppData\\Local\\Temp/ipykernel_9956/2928678360.py\u001b[0m in \u001b[0;36m<module>\u001b[1;34m\u001b[0m\n\u001b[1;32m----> 1\u001b[1;33m \u001b[0mprint\u001b[0m\u001b[1;33m(\u001b[0m\u001b[0mtup\u001b[0m\u001b[1;33m)\u001b[0m\u001b[1;33m\u001b[0m\u001b[1;33m\u001b[0m\u001b[0m\n\u001b[0m",
      "\u001b[1;31mNameError\u001b[0m: name 'tup' is not defined"
     ]
    }
   ],
   "source": [
    "print(tup)"
   ]
  },
  {
   "cell_type": "markdown",
   "id": "7de207db",
   "metadata": {},
   "source": [
    "# List"
   ]
  },
  {
   "cell_type": "code",
   "execution_count": 47,
   "id": "2b7cb74d",
   "metadata": {},
   "outputs": [
    {
     "name": "stdout",
     "output_type": "stream",
     "text": [
      "['Random', 'List', 'is', 'created', '.']\n"
     ]
    }
   ],
   "source": [
    "ls = [\"Random\", \"List\", \"is\", \"created\", \".\"]\n",
    "print(ls)"
   ]
  },
  {
   "cell_type": "code",
   "execution_count": 48,
   "id": "e359a88b",
   "metadata": {},
   "outputs": [
    {
     "data": {
      "text/plain": [
       "['List']"
      ]
     },
     "execution_count": 48,
     "metadata": {},
     "output_type": "execute_result"
    }
   ],
   "source": [
    "# slicing\n",
    "ls[1:2]"
   ]
  },
  {
   "cell_type": "code",
   "execution_count": 49,
   "id": "ce622dc1",
   "metadata": {},
   "outputs": [
    {
     "data": {
      "text/plain": [
       "5"
      ]
     },
     "execution_count": 49,
     "metadata": {},
     "output_type": "execute_result"
    }
   ],
   "source": [
    "len(ls)"
   ]
  },
  {
   "cell_type": "code",
   "execution_count": 50,
   "id": "c29964be",
   "metadata": {},
   "outputs": [],
   "source": [
    "del ls[-1]"
   ]
  },
  {
   "cell_type": "code",
   "execution_count": 51,
   "id": "22798f05",
   "metadata": {},
   "outputs": [
    {
     "data": {
      "text/plain": [
       "['Random', 'List', 'is', 'created']"
      ]
     },
     "execution_count": 51,
     "metadata": {},
     "output_type": "execute_result"
    }
   ],
   "source": [
    "ls"
   ]
  },
  {
   "cell_type": "code",
   "execution_count": 52,
   "id": "a73f7bd8",
   "metadata": {},
   "outputs": [
    {
     "ename": "TypeError",
     "evalue": "list.remove() takes exactly one argument (0 given)",
     "output_type": "error",
     "traceback": [
      "\u001b[1;31m---------------------------------------------------------------------------\u001b[0m",
      "\u001b[1;31mTypeError\u001b[0m                                 Traceback (most recent call last)",
      "\u001b[1;32m~\\AppData\\Local\\Temp/ipykernel_9956/3576026713.py\u001b[0m in \u001b[0;36m<module>\u001b[1;34m\u001b[0m\n\u001b[1;32m----> 1\u001b[1;33m \u001b[0mls\u001b[0m\u001b[1;33m.\u001b[0m\u001b[0mremove\u001b[0m\u001b[1;33m(\u001b[0m\u001b[1;33m)\u001b[0m\u001b[1;33m\u001b[0m\u001b[1;33m\u001b[0m\u001b[0m\n\u001b[0m",
      "\u001b[1;31mTypeError\u001b[0m: list.remove() takes exactly one argument (0 given)"
     ]
    }
   ],
   "source": [
    "ls.remove()"
   ]
  },
  {
   "cell_type": "code",
   "execution_count": 54,
   "id": "ed250b14",
   "metadata": {},
   "outputs": [
    {
     "data": {
      "text/plain": [
       "'Rand'"
      ]
     },
     "execution_count": 54,
     "metadata": {},
     "output_type": "execute_result"
    }
   ],
   "source": [
    "ls[0][0:4]"
   ]
  },
  {
   "cell_type": "markdown",
   "id": "4de40003",
   "metadata": {},
   "source": [
    "# Dictionary"
   ]
  },
  {
   "cell_type": "code",
   "execution_count": 55,
   "id": "00d639a0",
   "metadata": {},
   "outputs": [
    {
     "data": {
      "text/plain": [
       "{'ITM': 'Baroda',\n",
       " 'L.E.': 'Morbi',\n",
       " 'L.D.': 'Ahmedabad',\n",
       " 'SVNIT': 'Surat',\n",
       " 'R.K.': 'Rajkot'}"
      ]
     },
     "execution_count": 55,
     "metadata": {},
     "output_type": "execute_result"
    }
   ],
   "source": [
    "d1 = {\"ITM\":\"Baroda\",\n",
    "      \"L.E.\":\"Morbi\",\n",
    "      \"L.D.\":\"Ahmedabad\",\n",
    "      \"SVNIT\":\"Surat\",\n",
    "      \"R.K.\":\"Rajkot\"}\n",
    "d1"
   ]
  },
  {
   "cell_type": "code",
   "execution_count": 56,
   "id": "a4de9c81",
   "metadata": {},
   "outputs": [
    {
     "data": {
      "text/plain": [
       "dict_keys(['ITM', 'L.E.', 'L.D.', 'SVNIT', 'R.K.'])"
      ]
     },
     "execution_count": 56,
     "metadata": {},
     "output_type": "execute_result"
    }
   ],
   "source": [
    "d1.keys()"
   ]
  },
  {
   "cell_type": "code",
   "execution_count": 58,
   "id": "bd024a6d",
   "metadata": {},
   "outputs": [
    {
     "data": {
      "text/plain": [
       "dict_values(['Baroda', 'Morbi', 'Ahmedabad', 'Surat', 'Rajkot'])"
      ]
     },
     "execution_count": 58,
     "metadata": {},
     "output_type": "execute_result"
    }
   ],
   "source": [
    "d1.values()"
   ]
  },
  {
   "cell_type": "code",
   "execution_count": 60,
   "id": "58c9c5e0",
   "metadata": {},
   "outputs": [],
   "source": [
    "d1[\"MSU\"] = \"Baroda\"\n",
    "d1[\"DAIICT\"] = \"Gandhinagar\""
   ]
  },
  {
   "cell_type": "code",
   "execution_count": 61,
   "id": "b71834c9",
   "metadata": {},
   "outputs": [
    {
     "data": {
      "text/plain": [
       "{'ITM': 'Baroda',\n",
       " 'L.E.': 'Morbi',\n",
       " 'L.D.': 'Ahmedabad',\n",
       " 'SVNIT': 'Surat',\n",
       " 'R.K.': 'Rajkot',\n",
       " 'MSU': 'Baroda',\n",
       " 'DAIICT': 'Gandhinagar'}"
      ]
     },
     "execution_count": 61,
     "metadata": {},
     "output_type": "execute_result"
    }
   ],
   "source": [
    "d1"
   ]
  },
  {
   "cell_type": "code",
   "execution_count": 62,
   "id": "45284307",
   "metadata": {},
   "outputs": [
    {
     "data": {
      "text/plain": [
       "'Gandhinagar'"
      ]
     },
     "execution_count": 62,
     "metadata": {},
     "output_type": "execute_result"
    }
   ],
   "source": [
    "d1[\"DAIICT\"]"
   ]
  },
  {
   "cell_type": "code",
   "execution_count": 63,
   "id": "d4b3f359",
   "metadata": {},
   "outputs": [
    {
     "name": "stdout",
     "output_type": "stream",
     "text": [
      "7\n",
      "<class 'dict'>\n"
     ]
    }
   ],
   "source": [
    "print(len(d1))\n",
    "print(type(d1))"
   ]
  },
  {
   "cell_type": "markdown",
   "id": "26385cb5",
   "metadata": {},
   "source": [
    "# math module"
   ]
  },
  {
   "cell_type": "code",
   "execution_count": 64,
   "id": "de67c682",
   "metadata": {},
   "outputs": [
    {
     "data": {
      "text/plain": [
       "3.141592653589793"
      ]
     },
     "execution_count": 64,
     "metadata": {},
     "output_type": "execute_result"
    }
   ],
   "source": [
    "from math import pi\n",
    "pi"
   ]
  },
  {
   "cell_type": "code",
   "execution_count": 65,
   "id": "71d4a35a",
   "metadata": {},
   "outputs": [
    {
     "name": "stdout",
     "output_type": "stream",
     "text": [
      "Enter Radius : 5.25\n",
      "The area of circle is : 86.59014751456868\n"
     ]
    }
   ],
   "source": [
    "r = float(input(\"Enter Radius : \"))\n",
    "\n",
    "print(\"The area of circle is :\", pi * r * r)"
   ]
  },
  {
   "cell_type": "code",
   "execution_count": 66,
   "id": "cdff6bba",
   "metadata": {},
   "outputs": [
    {
     "name": "stdout",
     "output_type": "stream",
     "text": [
      "0\n",
      "1\n",
      "2\n",
      "3\n",
      "4\n",
      "5\n",
      "6\n",
      "7\n",
      "8\n",
      "9\n"
     ]
    }
   ],
   "source": [
    "for i in range(10):\n",
    "    print(i)"
   ]
  },
  {
   "cell_type": "code",
   "execution_count": null,
   "id": "ad14065b",
   "metadata": {},
   "outputs": [],
   "source": []
  }
 ],
 "metadata": {
  "kernelspec": {
   "display_name": "Python 3 (ipykernel)",
   "language": "python",
   "name": "python3"
  },
  "language_info": {
   "codemirror_mode": {
    "name": "ipython",
    "version": 3
   },
   "file_extension": ".py",
   "mimetype": "text/x-python",
   "name": "python",
   "nbconvert_exporter": "python",
   "pygments_lexer": "ipython3",
   "version": "3.9.7"
  }
 },
 "nbformat": 4,
 "nbformat_minor": 5
}
